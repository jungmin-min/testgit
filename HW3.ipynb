{
 "cells": [
  {
   "cell_type": "code",
   "execution_count": null,
   "metadata": {},
   "outputs": [],
   "source": [
    "# Q1.ch11 - 3\n",
    "\n",
    "filename = input(\"파일 이름을 입력하시오: \")\n",
    "file = open(filename, \"r\")\n",
    "infile = file.read()\n",
    "\n",
    "alp = {}\n",
    "\n",
    "for line in infile:\n",
    "    for ch in line:\n",
    "        if ch in alp:\n",
    "            alp[ch] = alp[ch] + 1\n",
    "        else:\n",
    "            alp[ch] = 1\n",
    "        \n",
    "print(alp)\n",
    "file.close()"
   ]
  },
  {
   "cell_type": "code",
   "execution_count": null,
   "metadata": {},
   "outputs": [],
   "source": [
    "# Q2.ch11 - 5\n",
    "\n",
    "infilename = input(\"입력 파일 이름: \")\n",
    "infile = open(infilename, \"r\")\n",
    "outfilename = input(\"출력 파일 이름: \")\n",
    "outfile = open(outfilename, \"w\")\n",
    "\n",
    "rfile = infile.readlines()\n",
    "summ = 0\n",
    "count = 0\n",
    "\n",
    "for num in rfile:\n",
    "    summ += float(num)\n",
    "    count += 1\n",
    "avg = summ / count\n",
    "\n",
    "outfile.write(\"합계 : \"+str(summ)+\"\\n\")\n",
    "outfile.write(\"평균 : \"+str(avg))\n",
    "\n",
    "infile.close()\n",
    "outfile.close()"
   ]
  },
  {
   "cell_type": "code",
   "execution_count": null,
   "metadata": {},
   "outputs": [],
   "source": [
    "# Q3.ch13 - 1\n",
    "\n",
    "class Circle:\n",
    "    def __init__(self, r):\n",
    "        self.radius = r\n",
    "    def calcPerimeter(self):\n",
    "        global PI\n",
    "        PI = 3.141592\n",
    "        print(\"원의 둘레: \", 2*float(self.radius)*PI)\n",
    "    def calcArea(self):\n",
    "        print(\"원의 면적: \", PI*float(self.radius)**2)\n",
    "        \n",
    "radius = input(\"반지름 : \")\n",
    "newCircle = Circle(radius)\n",
    "newCircle.calcPerimeter()\n",
    "newCircle.calcArea()"
   ]
  },
  {
   "cell_type": "code",
   "execution_count": null,
   "metadata": {},
   "outputs": [],
   "source": [
    "# Q3.ch13 - 4\n",
    "\n",
    "from turtle import *\n",
    "\n",
    "class MyTurtle(Turtle):\n",
    "    def drawSquare(self):\n",
    "        for i in range(4):\n",
    "            self.right(90)\n",
    "            self.forward(100)\n",
    "            \n",
    "            \n",
    "my_turtle = MyTurtle()\n",
    "my_turtle.shape(\"turtle\")\n",
    "my_turtle.color(\"pink\")\n",
    "my_turtle.forward(100)\n",
    "my_turtle.drawSquare()"
   ]
  },
  {
   "cell_type": "code",
   "execution_count": null,
   "metadata": {},
   "outputs": [],
   "source": []
  }
 ],
 "metadata": {
  "kernelspec": {
   "display_name": "Python 3",
   "language": "python",
   "name": "python3"
  },
  "language_info": {
   "codemirror_mode": {
    "name": "ipython",
    "version": 3
   },
   "file_extension": ".py",
   "mimetype": "text/x-python",
   "name": "python",
   "nbconvert_exporter": "python",
   "pygments_lexer": "ipython3",
   "version": "3.7.6"
  }
 },
 "nbformat": 4,
 "nbformat_minor": 4
}
